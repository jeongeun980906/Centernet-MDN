{
 "cells": [
  {
   "cell_type": "code",
   "execution_count": 1,
   "id": "6e0e9fdc",
   "metadata": {},
   "outputs": [],
   "source": [
    "import torch\n",
    "from model.MDN_hourglass import get_mixture_hourglass"
   ]
  },
  {
   "cell_type": "code",
   "execution_count": 2,
   "id": "cf9471c8",
   "metadata": {},
   "outputs": [],
   "source": [
    "device='cuda'"
   ]
  },
  {
   "cell_type": "code",
   "execution_count": null,
   "id": "19f2b357",
   "metadata": {},
   "outputs": [],
   "source": [
    "model = get_mixture_hourglass['large_hourglass'].to(self.device)\n",
    "path = './ckpt/baseline/{}.pt'.format(0)\n",
    "state_dict=torch.load(path)\n",
    "model.load_state_dict(state_dict)"
   ]
  }
 ],
 "metadata": {
  "kernelspec": {
   "display_name": "Python 3 (ipykernel)",
   "language": "python",
   "name": "python3"
  },
  "language_info": {
   "codemirror_mode": {
    "name": "ipython",
    "version": 3
   },
   "file_extension": ".py",
   "mimetype": "text/x-python",
   "name": "python",
   "nbconvert_exporter": "python",
   "pygments_lexer": "ipython3",
   "version": "3.8.8"
  }
 },
 "nbformat": 4,
 "nbformat_minor": 5
}
